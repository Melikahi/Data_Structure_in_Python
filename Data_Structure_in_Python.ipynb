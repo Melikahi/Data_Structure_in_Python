{
  "nbformat": 4,
  "nbformat_minor": 0,
  "metadata": {
    "colab": {
      "provenance": []
    },
    "kernelspec": {
      "name": "python3",
      "display_name": "Python 3"
    },
    "language_info": {
      "name": "python"
    }
  },
  "cells": [
    {
      "cell_type": "code",
      "execution_count": null,
      "metadata": {
        "id": "VIomgZ1dkDEP"
      },
      "outputs": [],
      "source": []
    },
    {
      "cell_type": "markdown",
      "source": [
        "# Data Structure in Python\n",
        "\n",
        "Helps in organising and storing data components efficiently\n",
        "- multiple inbuilt datstructures are there in python\n",
        "- different structures in python - list ,tuples, arrays, queues ,stacks ,graphs , dictionaries\n",
        "\n",
        "- main focus on lists,dictionaries"
      ],
      "metadata": {
        "id": "PWKLI760kPNa"
      }
    },
    {
      "cell_type": "code",
      "source": [],
      "metadata": {
        "id": "grw18F-qkU8R"
      },
      "execution_count": null,
      "outputs": []
    },
    {
      "cell_type": "markdown",
      "source": [
        "**Lists:**\n",
        "\n",
        "*   Ordered\n",
        "*   all elements are mutable (can be changed)\n",
        "*   Always in []\n",
        "*   Output is also a **list**\n",
        "\n",
        "\n",
        "\n",
        "\n"
      ],
      "metadata": {
        "id": "-WHLu7gDlQvl"
      }
    },
    {
      "cell_type": "code",
      "source": [
        "#creating a list\n",
        "my_list= [1,2,3,4,5]\n",
        "#accecing elements\n",
        "print(my_list[0])"
      ],
      "metadata": {
        "colab": {
          "base_uri": "https://localhost:8080/"
        },
        "id": "1UOnx5Ywl01P",
        "outputId": "c413d5df-0905-4061-ce5b-b12409c97084"
      },
      "execution_count": 1,
      "outputs": [
        {
          "output_type": "stream",
          "name": "stdout",
          "text": [
            "1\n"
          ]
        }
      ]
    },
    {
      "cell_type": "code",
      "source": [
        "#Adding elemnts is append method\n",
        "my_list.append(6)\n",
        "print(my_list)\n"
      ],
      "metadata": {
        "colab": {
          "base_uri": "https://localhost:8080/"
        },
        "id": "qEfGpPnynERT",
        "outputId": "eeab5dd0-14a1-4343-9d35-9206c5a7ce60"
      },
      "execution_count": 2,
      "outputs": [
        {
          "output_type": "stream",
          "name": "stdout",
          "text": [
            "[1, 2, 3, 4, 5, 6]\n"
          ]
        }
      ]
    },
    {
      "cell_type": "code",
      "source": [
        "#removing elements\n",
        "my_list.remove(3)\n",
        "print(my_list)"
      ],
      "metadata": {
        "colab": {
          "base_uri": "https://localhost:8080/"
        },
        "id": "sM-_Nv_NnaWv",
        "outputId": "03ed91b9-f3bb-4e03-c7a5-f66526200051"
      },
      "execution_count": 3,
      "outputs": [
        {
          "output_type": "stream",
          "name": "stdout",
          "text": [
            "[1, 2, 4, 5, 6]\n"
          ]
        }
      ]
    },
    {
      "cell_type": "code",
      "source": [
        "# SLICING\n",
        "# list[ inclusive : exclusive :step]\n",
        "print(my_list[:3])"
      ],
      "metadata": {
        "colab": {
          "base_uri": "https://localhost:8080/"
        },
        "id": "SSDqCrFbqByu",
        "outputId": "3f6bfd8f-62cd-48cc-d0f5-290ed9cd3c54"
      },
      "execution_count": 6,
      "outputs": [
        {
          "output_type": "stream",
          "name": "stdout",
          "text": [
            "[1, 2, 4]\n"
          ]
        }
      ]
    },
    {
      "cell_type": "code",
      "source": [
        "# Modifying the lists\n",
        "my_list[1]='9'\n",
        "print(my_list)"
      ],
      "metadata": {
        "colab": {
          "base_uri": "https://localhost:8080/"
        },
        "id": "ARMb9_PdqjfU",
        "outputId": "c0a1d9c8-0329-43c8-b1f6-44a47ae73191"
      },
      "execution_count": 7,
      "outputs": [
        {
          "output_type": "stream",
          "name": "stdout",
          "text": [
            "[1, '9', 4, 5, 6]\n"
          ]
        }
      ]
    },
    {
      "cell_type": "code",
      "source": [
        "#Reversing the list.  #if we see reverse direction it will always start from -1\n",
        "my_list.reverse()\n",
        "print(my_list)\n"
      ],
      "metadata": {
        "colab": {
          "base_uri": "https://localhost:8080/"
        },
        "id": "aD5_3nS9rHwx",
        "outputId": "8a82cabf-35b5-47b3-cd0b-bcbee0c1ec8b"
      },
      "execution_count": 9,
      "outputs": [
        {
          "output_type": "stream",
          "name": "stdout",
          "text": [
            "[6, 5, 4, '9', 1]\n"
          ]
        }
      ]
    },
    {
      "cell_type": "markdown",
      "source": [
        "**Tuples**\n",
        "\n",
        "Tuples are immutable\n",
        "\n",
        "\n",
        "only acces the element\n",
        "\n",
        "Always ()\n",
        "\n"
      ],
      "metadata": {
        "id": "8CsYQALXoRLf"
      }
    },
    {
      "cell_type": "code",
      "source": [
        "#creating a tuple\n",
        "my_tuple=(1,2,3,4,5)\n",
        "#accessing elemnts\n",
        "print(my_tuple[1])\n",
        "\\\n",
        "#my_tuple[1]=10 #ERROR\n",
        "\\\n",
        "#slicing               #one elemnt before the end will printed\n",
        "print(my_tuple[1:4])\n"
      ],
      "metadata": {
        "colab": {
          "base_uri": "https://localhost:8080/"
        },
        "id": "ONeBJcWgoUVA",
        "outputId": "93c4c756-1145-4a19-c375-354e491c7b4c"
      },
      "execution_count": 5,
      "outputs": [
        {
          "output_type": "stream",
          "name": "stdout",
          "text": [
            "2\n",
            "(2, 3, 4)\n"
          ]
        }
      ]
    },
    {
      "cell_type": "markdown",
      "source": [
        "**Dictionary**\n",
        "\n",
        "Dictionaries are used to store data values in key:value pairs.\n",
        "\n",
        "A dictionary is a collection which is ordered*, changeable and do not allow duplicates.\n",
        "\n",
        "Dictionaries are written with curly brackets, and have keys and values:\n",
        "\n",
        "\n"
      ],
      "metadata": {
        "id": "Sy9LHckJsMVz"
      }
    },
    {
      "cell_type": "code",
      "source": [
        "# Creating a dictionary\n",
        "my_dict = {'name': 'Alice', 'age': 25,'city': 'New York'}\n",
        "\n",
        "# Accessing values\n",
        "print (my_dict['name']) # Outout: Alice\n",
        "# Adding key-value pairs\n",
        "my_dict['email'] = 'alice@example.com'\n",
        "print(my_dict)\n",
        "# Output: ('name': 'Alice', 'age': 25, 'city': 'New York', 'email:'alice@example.com')\n",
        "# Removing key-value pairs\n",
        "del my_dict['age']\n",
        "print (my_dict)\n",
        "# Output: ('name': 'Alice', 'city': 'New York', 'email': 'alice@t)"
      ],
      "metadata": {
        "colab": {
          "base_uri": "https://localhost:8080/"
        },
        "id": "IwHMJg_EoWDh",
        "outputId": "3618c5b7-3598-42f4-e519-3a2c0bea2c6d"
      },
      "execution_count": 16,
      "outputs": [
        {
          "output_type": "stream",
          "name": "stdout",
          "text": [
            "Alice\n",
            "{'name': 'Alice', 'age': 25, 'city': 'New York', 'email': 'alice@example.com'}\n",
            "{'name': 'Alice', 'city': 'New York', 'email': 'alice@example.com'}\n"
          ]
        }
      ]
    },
    {
      "cell_type": "code",
      "source": [],
      "metadata": {
        "id": "-wPcYyVG0Op0"
      },
      "execution_count": null,
      "outputs": []
    },
    {
      "cell_type": "markdown",
      "source": [
        "**Set**\n",
        "\n",
        "Sets are used to store multiple items in a single variable.\n",
        "\n",
        "Set is one of 4 built-in data types in Python used to store collections of data, the other 3 are List, Tuple, and Dictionary, all with different qualities and usage.\n",
        "\n",
        "A set is a collection which is unordered, unchangeable*, and unindexed.\n",
        "\n",
        "* Note: Set items are unchangeable, but you can remove items and add new items.\n",
        "\n",
        "Sets are written with curly brackets.\n",
        "\n",
        "\n"
      ],
      "metadata": {
        "id": "LYIiz5i91xbo"
      }
    },
    {
      "cell_type": "code",
      "source": [
        "thisset = {\"apple\", \"banana\", \"cherry\", \"apple\"}\n",
        "\n",
        "print(thisset)"
      ],
      "metadata": {
        "colab": {
          "base_uri": "https://localhost:8080/"
        },
        "id": "aSYyWIcP3774",
        "outputId": "837b3f5f-3fb5-41ec-fa96-9d979ad3133a"
      },
      "execution_count": 17,
      "outputs": [
        {
          "output_type": "stream",
          "name": "stdout",
          "text": [
            "{'apple', 'banana', 'cherry'}\n"
          ]
        }
      ]
    },
    {
      "cell_type": "code",
      "source": [
        "thisset = {\"apple\", \"banana\", \"cherry\", True, 1, 2} #Note: The values True and 1 are considered the same value in sets, and are treated as duplicates:\n",
        "\n",
        "\n",
        "print(thisset)"
      ],
      "metadata": {
        "colab": {
          "base_uri": "https://localhost:8080/"
        },
        "id": "-fI3LJ0B4Nhj",
        "outputId": "6d908578-15ec-4530-9ccc-c6eb0b7a3400"
      },
      "execution_count": 18,
      "outputs": [
        {
          "output_type": "stream",
          "name": "stdout",
          "text": [
            "{True, 2, 'cherry', 'banana', 'apple'}\n"
          ]
        }
      ]
    },
    {
      "cell_type": "code",
      "source": [
        "thisset = {\"apple\", \"banana\", \"cherry\", False, True, 0}\n",
        " #Note: The values False and 0 are considered the same value in sets, and are treated as duplicates:\n",
        "\n",
        "\n",
        "print(thisset)"
      ],
      "metadata": {
        "colab": {
          "base_uri": "https://localhost:8080/"
        },
        "id": "7h40-H4m4h10",
        "outputId": "0297fb58-ed84-4a45-9b08-d313a1d71f66"
      },
      "execution_count": 19,
      "outputs": [
        {
          "output_type": "stream",
          "name": "stdout",
          "text": [
            "{False, True, 'cherry', 'banana', 'apple'}\n"
          ]
        }
      ]
    },
    {
      "cell_type": "code",
      "source": [
        "myset = {\"apple\", \"banana\", \"cherry\"}\n",
        "print(type(myset))"
      ],
      "metadata": {
        "colab": {
          "base_uri": "https://localhost:8080/"
        },
        "id": "cTdE087e5PI9",
        "outputId": "06f59bf9-0172-422b-b60e-b1177a38a84f"
      },
      "execution_count": 20,
      "outputs": [
        {
          "output_type": "stream",
          "name": "stdout",
          "text": [
            "<class 'set'>\n"
          ]
        }
      ]
    },
    {
      "cell_type": "code",
      "source": [
        "# Creating a set\n",
        "my_set = {1, 2, 3, 4, 5}\n",
        "# Adding elements\n",
        "my_set.add(6)\n",
        "print(my_set) # Output: {1, 2, 3, 4, 5, 6}\n",
        "# Removing elements\n",
        "my_set.remove(3)\n",
        "print (my_set)\n",
        "# Output: {1, 2, 4, 5, 6}\n",
        "# Set operations\n",
        "another_set = {4, 5, 6, 7, 8}\n",
        "print (my_set & another_set)\n",
        "print (my_set | another_set)\n",
        "print (my_set - another_set)\n",
        "{1, 2, 3, 4, 5, 6}\n",
        "# Output: {4, 5, 6} (intersection)\n",
        "# Output: {1, 2, 4, 5, 6, 7, 87 (union)\n",
        "# Output: {1, 2 (difference)"
      ],
      "metadata": {
        "colab": {
          "base_uri": "https://localhost:8080/"
        },
        "id": "xOj9IxayCOvz",
        "outputId": "47782c8d-9df1-4250-facc-425d40016479"
      },
      "execution_count": 26,
      "outputs": [
        {
          "output_type": "stream",
          "name": "stdout",
          "text": [
            "{1, 2, 3, 4, 5, 6}\n",
            "{1, 2, 4, 5, 6}\n",
            "{4, 5, 6}\n",
            "{1, 2, 4, 5, 6, 7, 8}\n",
            "{1, 2}\n"
          ]
        },
        {
          "output_type": "execute_result",
          "data": {
            "text/plain": [
              "{1, 2, 3, 4, 5, 6}"
            ]
          },
          "metadata": {},
          "execution_count": 26
        }
      ]
    },
    {
      "cell_type": "markdown",
      "source": [
        "**Join Sets**\n",
        "\n",
        "There are several ways to join two or more sets in Python.\n",
        "\n",
        "The union() and update() methods joins all items from both sets.\n",
        "\n",
        "The intersection() method keeps ONLY the duplicates.\n",
        "\n",
        "The difference() method keeps the items from the first set that are not in the other set(s).\n",
        "\n",
        "The symmetric_difference() method keeps all items EXCEPT the duplicates.\n",
        "\n"
      ],
      "metadata": {
        "id": "j8Duvhpl92t3"
      }
    },
    {
      "cell_type": "code",
      "source": [
        "\n",
        "\n",
        "set1 = {\"a\",\"b\",\"c\"}\n",
        "set2 = {1,2,3}\n",
        "\n",
        "set3 = set1.union(set2)\n",
        "print(set3)\n",
        "\n",
        "#You can use the | operator instead of the union() method, and you will get the same result.\n",
        "\n",
        "set1 = {\"a\",\"b\",\"c\"}\n",
        "set2 = {1,2,3}\n",
        "\n",
        "set3 = set1 | set2\n",
        "print(set3)\n",
        "\n",
        "#Join multiple sets with the union() method:\n",
        "\n",
        "set1 = {\"a\",\"b\",\"c\"}\n",
        "set2 = {1,2,3}\n",
        "set3 = {\"John\",\"Elena\"}\n",
        "set4 = {\"apple\",\"bananas\",\"cherry\"}\n",
        "\n",
        "myset = set1.union(set2, set3, set4)\n",
        "print(myset)\n",
        "\n",
        "#When using the | operator, separate the sets with more | operators:\n",
        "#Use | to join two sets:\n",
        "set1 = {\"a\",\"b\",\"c\"}\n",
        "set2 = {1,2,3}\n",
        "set3 = {\"John\",\"Elena\"}\n",
        "set4 = {\"apple\",\"bananas\",\"cherry\"}\n",
        "\n",
        "myset = set1 | set2 | set3 |set4\n",
        "print(myset)\n"
      ],
      "metadata": {
        "colab": {
          "base_uri": "https://localhost:8080/"
        },
        "id": "hj1sUi4L5erR",
        "outputId": "8e969a78-a9bf-4549-c989-ee91cd01c097"
      },
      "execution_count": 22,
      "outputs": [
        {
          "output_type": "stream",
          "name": "stdout",
          "text": [
            "{'c', 1, 2, 3, 'b', 'a'}\n",
            "{'c', 1, 2, 3, 'b', 'a'}\n",
            "{'c', 1, 2, 3, 'b', 'cherry', 'bananas', 'apple', 'Elena', 'John', 'a'}\n",
            "{'c', 1, 2, 3, 'b', 'cherry', 'bananas', 'apple', 'Elena', 'John', 'a'}\n"
          ]
        }
      ]
    },
    {
      "cell_type": "code",
      "source": [
        "## How can you convert a List of tuples into a dictionary in Python?\n",
        "list_of_tuples = [('name', 'Alice'), ('age', 25), ('city', 'New York') ]\n",
        "my_dict = dict(list_of_tuples)\n",
        "print(my_dict) # Output: {'name':'Alice\"}'age': 25, 'city': 'New York\"}"
      ],
      "metadata": {
        "colab": {
          "base_uri": "https://localhost:8080/"
        },
        "id": "RKl919hr-EtD",
        "outputId": "3553d224-6ddc-40d7-e1c5-2aa351883b6a"
      },
      "execution_count": 24,
      "outputs": [
        {
          "output_type": "stream",
          "name": "stdout",
          "text": [
            "{'name': 'Alice', 'age': 25, 'city': 'New York'}\n"
          ]
        }
      ]
    },
    {
      "cell_type": "code",
      "source": [
        "## How can you merge two dictionaries in Python?\n",
        "dict1 = {'name': 'Alice','age': 25,}\n",
        "dict2 = {'city': 'New York', 'email':'alice@example.com'}\n",
        "# Using update()\n",
        "dict1.update(dict2)\n",
        "print(dict1)"
      ],
      "metadata": {
        "colab": {
          "base_uri": "https://localhost:8080/"
        },
        "id": "75aXfnxXCI8U",
        "outputId": "eb399278-011e-4b00-ff7d-86bc851ab9cc"
      },
      "execution_count": 28,
      "outputs": [
        {
          "output_type": "stream",
          "name": "stdout",
          "text": [
            "{'name': 'Alice', 'age': 25, 'city': 'New York', 'email': 'alice@example.com'}\n"
          ]
        }
      ]
    },
    {
      "cell_type": "code",
      "source": [
        "# Using dictionary unpacking (Python 3.5+)\n",
        "merged_dict = {**dict1, **dict2}\n",
        "print (merged_dict)"
      ],
      "metadata": {
        "colab": {
          "base_uri": "https://localhost:8080/"
        },
        "id": "Vkh7aQvfFA33",
        "outputId": "9d866e63-0a29-4e15-d45e-75807465a7fa"
      },
      "execution_count": 30,
      "outputs": [
        {
          "output_type": "stream",
          "name": "stdout",
          "text": [
            "{'name': 'Alice', 'age': 25, 'city': 'New York', 'email': 'alice@example.com'}\n"
          ]
        }
      ]
    },
    {
      "cell_type": "code",
      "source": [
        "# How can you sort a List in Python?\n",
        "my_list = [3, 1, 4, 1, 5, 91]\n",
        "# Using sort() method (sorts in-pLace)\n",
        "my_list.sort()\n",
        "print (my_list) # Output: [1, 1, 3, 4, 5, 9]\n",
        "# Using sorted() function (returns a new sorted List)\n",
        "sorted_list = sorted(my_list)\n",
        "print (sorted_list) # Output: (1, 1, 3, 4, 5, 97"
      ],
      "metadata": {
        "colab": {
          "base_uri": "https://localhost:8080/"
        },
        "id": "efmQg-P3FeNO",
        "outputId": "aee74f32-bb8a-490c-bb7d-fbfc76612dcd"
      },
      "execution_count": 31,
      "outputs": [
        {
          "output_type": "stream",
          "name": "stdout",
          "text": [
            "[1, 1, 3, 4, 5, 91]\n",
            "[1, 1, 3, 4, 5, 91]\n"
          ]
        }
      ]
    },
    {
      "cell_type": "code",
      "source": [
        "# How can you concatenate two tuples in Python?\n",
        "tuple1 = (1, 2, 3)\n",
        "tuple2 = (4, 5, 6)\n",
        "concatenated_tuple = tuple1 + tuple2\n",
        "print (concatenated_tuple)"
      ],
      "metadata": {
        "colab": {
          "base_uri": "https://localhost:8080/"
        },
        "id": "nK8HqkqCF3uT",
        "outputId": "51706403-b442-463a-bbed-c53c947da281"
      },
      "execution_count": 32,
      "outputs": [
        {
          "output_type": "stream",
          "name": "stdout",
          "text": [
            "(1, 2, 3, 4, 5, 6)\n"
          ]
        }
      ]
    }
  ]
}